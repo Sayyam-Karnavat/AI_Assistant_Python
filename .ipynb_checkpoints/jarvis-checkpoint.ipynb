{
 "cells": [
  {
   "cell_type": "code",
   "execution_count": 1,
   "metadata": {},
   "outputs": [],
   "source": [
    "import webbrowser\n",
    "import wikipedia\n",
    "from newspaper import Article\n",
    "from textblob import TextBlob\n",
    "import nltk\n",
    "import os"
   ]
  },
  {
   "cell_type": "code",
   "execution_count": 2,
   "metadata": {},
   "outputs": [],
   "source": [
    "import pyttsx3\n",
    "import datetime\n",
    "import speech_recognition as sr\n",
    "import pyaudio\n",
    "import pywhatkit as pw"
   ]
  },
  {
   "cell_type": "code",
   "execution_count": 3,
   "metadata": {},
   "outputs": [],
   "source": [
    "engine = pyttsx3.init() \n",
    "voices = engine.getProperty('voices')\n",
    "engine.setProperty('voice',voices[1].id)\n",
    "engine.setProperty(\"rate\",200)"
   ]
  },
  {
   "cell_type": "code",
   "execution_count": 4,
   "metadata": {},
   "outputs": [],
   "source": [
    "def speak (audio):\n",
    "    engine.say(audio)\n",
    "    engine.runAndWait()"
   ]
  },
  {
   "cell_type": "code",
   "execution_count": 5,
   "metadata": {},
   "outputs": [],
   "source": [
    "def wishme():\n",
    "    hour = int (datetime.datetime.now().hour)\n",
    "    if hour == 0 and hour <12:\n",
    "        speak(\"Good morning sir\")\n",
    "        speak(\"I am your voice assistant,how can i help you\")\n",
    "        \n",
    "    elif hour >= 12 and hour<18:\n",
    "        speak(\"Good afternoon sir\")\n",
    "        speak(\"I am your voice assistant,how can i help you\")\n",
    "    else:\n",
    "        speak(\"Good evening sir\")\n",
    "        speak(\"I am your voice assistant,how can i help you\")"
   ]
  },
  {
   "cell_type": "code",
   "execution_count": null,
   "metadata": {},
   "outputs": [],
   "source": []
  },
  {
   "cell_type": "code",
   "execution_count": 16,
   "metadata": {},
   "outputs": [],
   "source": [
    "def mainfunc():\n",
    "    r = sr.Recognizer()\n",
    "    wishme()\n",
    "    while True:\n",
    "        try:\n",
    "            x = takevoice().lower()\n",
    "            print(\"Did you say \" + x)\n",
    "            \n",
    "            if \"open\" and \"youtube\" in x:\n",
    "                webbrowser.open(\"https://www.youtube.com/\")\n",
    "            \n",
    "            \n",
    "            elif \"what\" and \"is\" in x:\n",
    "                x = x.replace(\"what\", \"\")\n",
    "                x = x.replace(\"is\",\"\")\n",
    "                results = wikipedia.summary(x,sentences = 2)\n",
    "                speak(results)\n",
    "            \n",
    "            \n",
    "            elif \"search\" in x:\n",
    "                x = x.replace(\"search\" , \"\")\n",
    "                x.replace(\"for\",\"\")\n",
    "                x.replace(\"on\",\"\")\n",
    "                x.replace(\"google\",\"\")\n",
    "                pw.search(x)\n",
    "\n",
    "            elif \"wikipedia\" in x:\n",
    "                speak(\"Searching wikipedia\")\n",
    "                x = x.replace(\"wikipedia\" , \"\")\n",
    "                results = wikipedia.summary(x,sentences = 2)\n",
    "                speak(\"According to wikipedia\")\n",
    "                speak(results)\n",
    "                \n",
    "            elif \"play music\" in x:\n",
    "                music_dir = \"C:\\\\Users\\\\abh\\\\Desktop\\\\music\"\n",
    "                songs = os.listdir(music_dir)\n",
    "                print(songs)\n",
    "                os.startfile(os.path.join(music_dir ,songs[0]))\n",
    "            \n",
    "            elif \"open firefox\" in x:\n",
    "                foxpath = \"C:\\\\Program Files (x86)\\\\Mozilla Firefox\\\\firefox.exe\"\n",
    "                os.startfile(foxpath)\n",
    "  \n",
    "            elif \"wait\" in x :\n",
    "                speak(\"Ok sir , type yes if you are ready to give next command\")\n",
    "                b = input(\"Yes/no\").lower()\n",
    "                if b == \"yes\":\n",
    "                    pass\n",
    "                else:\n",
    "                    break\n",
    "            \n",
    "            elif \"quit\" or \"exit\":\n",
    "                speak(\"Ok sir , See you again\")\n",
    "                break\n",
    "            \n",
    "            elif \"sentiment\" and \"analysis\" in x:\n",
    "                try:\n",
    "                    speak(\"Enter the data for analysis\")\n",
    "                    myinp = input(\"Enter your input here\\t\")\n",
    "                    speak(\"Here is the file with data and analysis\")\n",
    "                    blob = TextBlob(text)\n",
    "                    print(text)\n",
    "                    sentiment = blob.sentiment.polarity # gives relsults in range -1 to 1 ,-1 means sentiments are negative,0 means article is neutal and 1 for positivity\n",
    "                    if sentiment < 0:\n",
    "                        speak (\"Given article is Negative :( \")\n",
    "                    elif sentiment == 0:\n",
    "                        speak(\"Given article is Neutral :| \")\n",
    "                    else :\n",
    "                        speak(\"Given article is Positive :) \") \n",
    "                except:\n",
    "                    speak(\"Cannot do what you said\")\n",
    "            \n",
    "            else:\n",
    "                speak(\"Here are the results for your data\")\n",
    "                pw.search(x)\n",
    "        except:\n",
    "            speak(\"Didn't understood what you said , can you say it again ??\")"
   ]
  },
  {
   "cell_type": "code",
   "execution_count": null,
   "metadata": {},
   "outputs": [],
   "source": []
  },
  {
   "cell_type": "code",
   "execution_count": null,
   "metadata": {},
   "outputs": [],
   "source": []
  },
  {
   "cell_type": "code",
   "execution_count": 7,
   "metadata": {},
   "outputs": [],
   "source": [
    "def takevoice():\n",
    "    #read duration from the arguments\n",
    "    duration = 4\n",
    "    # initialize the recognizer\n",
    "    r = sr.Recognizer()\n",
    "    speak(\"I am listening please say something\")\n",
    "    print(\"Please say something\")\n",
    "    with sr.Microphone() as source:\n",
    "        # read the audio data from the default microphone\n",
    "        r.pause_threshold = 1\n",
    "        audio_data = r.record(source, duration=duration)\n",
    "        print(\"Recognizing...\")\n",
    "        # convert speech to text\n",
    "        text = r.recognize_google(audio_data)\n",
    "    return text"
   ]
  },
  {
   "cell_type": "code",
   "execution_count": null,
   "metadata": {},
   "outputs": [],
   "source": []
  },
  {
   "cell_type": "code",
   "execution_count": 8,
   "metadata": {},
   "outputs": [],
   "source": [
    "url = \"https://www.msn.com/en-in/entertainment/bollywood/shah-rukh-khan-s-home-mannat-s-new-nameplate-worth-rs-25-lakhs-goes-missing-puzzled-fans-take-to-social-media/ar-AAXPfnF?ocid=msedgntp&cvid=12b491522a224e748e519c5754a9bc56\"\n",
    "a = \"\"\"article = Article(url) #transforms any given input into article format\n",
    "article.download() # downloads article available into script \n",
    "article.parse() # makes article in readable format  from html structure\n",
    "text = article.text\n",
    "print(text)\n",
    "blob = TextBlob(text)\n",
    "sentiment = blob.sentiment.polarity # gives relsults in range -1 to 1 ,-1 means sentiments are negative,0 means article is neutal and 1 for positivity\n",
    "print(sentiment)\"\"\""
   ]
  },
  {
   "cell_type": "code",
   "execution_count": 9,
   "metadata": {},
   "outputs": [],
   "source": [
    "# if you want to analyse text from file\n",
    "\n",
    "def file_analysis(a):\n",
    "    try:\n",
    "        with open( a , 'r') as f:\n",
    "            text = f.read()\n",
    "\n",
    "        blob = TextBlob(text)\n",
    "        print(text)\n",
    "        sentiment = blob.sentiment.polarity # gives relsults in range -1 to 1 ,-1 means sentiments are negative,0 means article is neutal and 1 for positivity\n",
    "        if sentiment < 0:\n",
    "            print (\"Given article is Negative :( \")\n",
    "        elif sentiment == 0:\n",
    "            print (\"Given article is Neutral :| \")\n",
    "        else :\n",
    "            print (\"Given article is Positive :) \") \n",
    "    except:\n",
    "        speak(\"File not found!!,can you provide another file\")"
   ]
  },
  {
   "cell_type": "code",
   "execution_count": 17,
   "metadata": {},
   "outputs": [
    {
     "name": "stdout",
     "output_type": "stream",
     "text": [
      "Please say something\n",
      "Recognizing...\n",
      "Please say something\n",
      "Recognizing...\n",
      "Please say something\n",
      "Recognizing...\n",
      "Please say something\n",
      "Recognizing...\n",
      "Did you say sentiment analysis\n",
      "Please say something\n",
      "Recognizing...\n",
      "Did you say sentiment analysis function\n",
      "Please say something\n",
      "Recognizing...\n",
      "Did you say govinda bhagwan\n"
     ]
    }
   ],
   "source": [
    "mainfunc()"
   ]
  },
  {
   "cell_type": "code",
   "execution_count": null,
   "metadata": {},
   "outputs": [],
   "source": []
  },
  {
   "cell_type": "code",
   "execution_count": null,
   "metadata": {},
   "outputs": [],
   "source": []
  },
  {
   "cell_type": "code",
   "execution_count": null,
   "metadata": {},
   "outputs": [],
   "source": []
  },
  {
   "cell_type": "code",
   "execution_count": null,
   "metadata": {},
   "outputs": [],
   "source": []
  },
  {
   "cell_type": "code",
   "execution_count": null,
   "metadata": {},
   "outputs": [],
   "source": []
  },
  {
   "cell_type": "code",
   "execution_count": null,
   "metadata": {},
   "outputs": [],
   "source": [
    "mainfunc()"
   ]
  },
  {
   "cell_type": "code",
   "execution_count": null,
   "metadata": {},
   "outputs": [],
   "source": []
  }
 ],
 "metadata": {
  "kernelspec": {
   "display_name": "Python 3",
   "language": "python",
   "name": "python3"
  },
  "language_info": {
   "codemirror_mode": {
    "name": "ipython",
    "version": 3
   },
   "file_extension": ".py",
   "mimetype": "text/x-python",
   "name": "python",
   "nbconvert_exporter": "python",
   "pygments_lexer": "ipython3",
   "version": "3.7.6"
  }
 },
 "nbformat": 4,
 "nbformat_minor": 4
}
